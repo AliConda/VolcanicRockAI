{
  "cells": [
    {
      "cell_type": "code",
      "execution_count": null,
      "metadata": {
        "id": "sYoJtjE33UNv"
      },
      "outputs": [],
      "source": [
        "import numpy as np\n",
        "import matplotlib.pyplot as plt\n",
        "import plotly.graph_objects as go\n",
        "import pandas as pd"
      ]
    },
    {
      "cell_type": "code",
      "execution_count": null,
      "metadata": {
        "id": "VLv_PQsB3vpG"
      },
      "outputs": [],
      "source": [
        "df=pd.read_excel('/content/drive/MyDrive/Meg/Combined Datasets EPMA.xlsx')\n"
      ]
    },
    {
      "cell_type": "code",
      "execution_count": null,
      "metadata": {
        "id": "gedfnmnl344W"
      },
      "outputs": [],
      "source": [
        "df.head()"
      ]
    },
    {
      "cell_type": "code",
      "source": [
        "df['B']"
      ],
      "metadata": {
        "id": "jz5HMTBf2FPH"
      },
      "execution_count": null,
      "outputs": []
    },
    {
      "cell_type": "code",
      "execution_count": null,
      "metadata": {
        "id": "Uj21cCu836Pf"
      },
      "outputs": [],
      "source": [
        "df.set_index(df.columns[0],inplace=True)"
      ]
    },
    {
      "cell_type": "code",
      "source": [
        "df.drop('KL2023-07-23-3_34',inplace=True)#  because has a value cpx"
      ],
      "metadata": {
        "id": "W8dx-4ljiLqq"
      },
      "execution_count": null,
      "outputs": []
    },
    {
      "cell_type": "code",
      "execution_count": null,
      "metadata": {
        "id": "rAlpjqEs4hP2"
      },
      "outputs": [],
      "source": [
        "df.columns"
      ]
    },
    {
      "cell_type": "code",
      "execution_count": null,
      "metadata": {
        "id": "wzxM1phN4mv-"
      },
      "outputs": [],
      "source": [
        "df_electron=df[['NiO', 'F', 'CaO', 'SiO2', 'Cr2O3', 'Na2O', 'TiO2', 'V2O3', 'MnO',\n",
        "       'MgO', 'ZnO', 'FeO', 'Al2O3', 'K2O', 'Li2O','Mg#','C', 'M', 'R', 'T']]"
      ]
    },
    {
      "cell_type": "code",
      "execution_count": null,
      "metadata": {
        "id": "gdCQWg4dhU16"
      },
      "outputs": [],
      "source": [
        "electron_vis=df[['NiO', 'F', 'CaO', 'SiO2', 'Cr2O3', 'Na2O', 'TiO2', 'V2O3', 'MnO',\n",
        "       'MgO', 'ZnO', 'FeO', 'Al2O3', 'K2O', 'Li2O','Mg#']]"
      ]
    },
    {
      "cell_type": "code",
      "execution_count": null,
      "metadata": {
        "id": "Lw2W5nbk5LmH"
      },
      "outputs": [],
      "source": [
        "df_laser=df[[\n",
        "       'Li', 'Be', 'B', 'Mg', 'Si', 'Ca', 'Ca.1', 'Sc', 'Ti', 'V', 'Cr', 'Mn',\n",
        "       'Co', 'Ni', 'Cu', 'Rb', 'Sr', 'Y', 'Zr', 'Nb', 'Cs', 'Ba', 'La', 'Ce',\n",
        "       'Pr', 'Nd', 'Sm', 'Eu', 'Gd', 'Tb', 'Dy', 'Ho', 'Er', 'Tm', 'Yb', 'Lu',\n",
        "       'Hf', 'Ta', 'Pb', 'Th', 'U', 'C', 'M', 'R', 'T']]"
      ]
    },
    {
      "cell_type": "code",
      "execution_count": null,
      "metadata": {
        "id": "9MuAdW3aheyZ"
      },
      "outputs": [],
      "source": [
        "laser_vis=df[['Li', 'Be', 'B', 'Mg', 'Si', 'Ca', 'Ca.1', 'Sc', 'Ti', 'V', 'Cr', 'Mn',\n",
        "       'Co', 'Ni', 'Cu', 'Rb', 'Sr', 'Y', 'Zr', 'Nb', 'Cs', 'Ba', 'La', 'Ce',\n",
        "       'Pr', 'Nd', 'Sm', 'Eu', 'Gd', 'Tb', 'Dy', 'Ho', 'Er', 'Tm', 'Yb', 'Lu',\n",
        "       'Hf', 'Ta', 'Pb', 'Th', 'U']]"
      ]
    },
    {
      "cell_type": "code",
      "execution_count": null,
      "metadata": {
        "id": "-6EoKpA1_He3"
      },
      "outputs": [],
      "source": [
        "df_electron.dropna(axis=0,inplace=True)"
      ]
    },
    {
      "cell_type": "code",
      "execution_count": null,
      "metadata": {
        "id": "i5_yooJp_WFu"
      },
      "outputs": [],
      "source": [
        "df_laser.dropna(axis=0,inplace=True)"
      ]
    },
    {
      "cell_type": "markdown",
      "metadata": {
        "id": "D_I4EujA44se"
      },
      "source": [
        "##Visualisation"
      ]
    },
    {
      "cell_type": "code",
      "execution_count": null,
      "metadata": {
        "id": "ixZHCaEPKKbd"
      },
      "outputs": [],
      "source": [
        "df_electron.columns"
      ]
    },
    {
      "cell_type": "code",
      "execution_count": null,
      "metadata": {
        "id": "oNWzp9mxNPJk"
      },
      "outputs": [],
      "source": [
        "import seaborn as sns"
      ]
    },
    {
      "cell_type": "code",
      "execution_count": null,
      "metadata": {
        "id": "LGNPqrdaiG9x"
      },
      "outputs": [],
      "source": [
        "sns.pairplot(electron_vis)"
      ]
    },
    {
      "cell_type": "code",
      "source": [
        "(electron_vis).corr()"
      ],
      "metadata": {
        "id": "0RBrLtAdjE9k"
      },
      "execution_count": null,
      "outputs": []
    },
    {
      "cell_type": "code",
      "execution_count": null,
      "metadata": {
        "id": "3Jsk18yoiK8n"
      },
      "outputs": [],
      "source": [
        "plt.figure(figsize=(10,8),dpi=200)\n",
        "\n",
        "sns.heatmap(np.round((electron_vis).corr(),1),annot=True,cmap='coolwarm')"
      ]
    },
    {
      "cell_type": "code",
      "source": [
        "# Calculate the correlation matrix\n",
        "corr_matrix = electron_vis.corr()\n",
        "\n",
        "# Filter for correlations above or equal to 0.8\n",
        "high_corr = corr_matrix[(corr_matrix >= 0.7) | (corr_matrix <= -0.7) ]\n",
        "\n",
        "# Remove self-correlations (which are always 1.0)\n",
        "high_corr = high_corr.where(np.triu(np.ones(high_corr.shape), k=1).astype(bool))\n",
        "\n",
        "# Stack to get a list of variable pairs\n",
        "high_corr_pairs = high_corr.stack().reset_index()\n",
        "\n",
        "# Rename the columns for clarity\n",
        "high_corr_pairs.columns = ['Variable 1', 'Variable 2', 'Correlation']\n",
        "\n",
        "# Display the result\n",
        "high_corr_pairs"
      ],
      "metadata": {
        "id": "L8UjfNCukCgT"
      },
      "execution_count": null,
      "outputs": []
    },
    {
      "cell_type": "code",
      "source": [
        "high_corr_pairs['Variable 1'][0]"
      ],
      "metadata": {
        "id": "P2bXn-vqp-_K"
      },
      "execution_count": null,
      "outputs": []
    },
    {
      "cell_type": "code",
      "source": [
        "for i in range(0,9):\n",
        "  custom_colors = ['red', 'green', 'blue']\n",
        "  plt.figure(dpi=300)\n",
        "  plt.title(f\"Correlation_Age_Dependant_ {np.round(high_corr_pairs['Correlation'][i],2)}\")\n",
        "  sns.scatterplot(data=df_electron,x=high_corr_pairs['Variable 1'][i],y=high_corr_pairs['Variable 2'][i],hue='T',palette=custom_colors)\n",
        "\n"
      ],
      "metadata": {
        "id": "5FtSrhSQqNdk"
      },
      "execution_count": null,
      "outputs": []
    },
    {
      "cell_type": "code",
      "source": [
        "laser_vis.dropna(axis=0,inplace=True)"
      ],
      "metadata": {
        "id": "wCKznma4jcYe"
      },
      "execution_count": null,
      "outputs": []
    },
    {
      "cell_type": "code",
      "source": [
        "laser_vis"
      ],
      "metadata": {
        "id": "KfxoC2lCjtnk"
      },
      "execution_count": null,
      "outputs": []
    },
    {
      "cell_type": "code",
      "execution_count": null,
      "metadata": {
        "id": "eIb6WKa6WXAw"
      },
      "outputs": [],
      "source": [
        "laser_vis_cleaned = laser_vis.applymap(lambda x: str(x).replace('<', '') if isinstance(x, str) else x).astype(float)"
      ]
    },
    {
      "cell_type": "code",
      "source": [
        "df_laser_clean=df_laser.applymap(lambda x: str(x).replace('<','')if isinstance (x,str) else x).astype(float)"
      ],
      "metadata": {
        "id": "Gv7DyeHrIpOK"
      },
      "execution_count": null,
      "outputs": []
    },
    {
      "cell_type": "code",
      "source": [
        "df_laser_clean"
      ],
      "metadata": {
        "id": "BEV-9N4RkJIl"
      },
      "execution_count": null,
      "outputs": []
    },
    {
      "cell_type": "code",
      "execution_count": null,
      "metadata": {
        "id": "5NvkWfKWYIvP"
      },
      "outputs": [],
      "source": [
        "import seaborn as sns\n",
        "#sns.pairplot(laser_vis_cleaned)"
      ]
    },
    {
      "cell_type": "code",
      "execution_count": null,
      "metadata": {
        "id": "BbwhiDkiW1oI"
      },
      "outputs": [],
      "source": [
        "plt.figure(figsize=(15,11),dpi=200)\n",
        "\n",
        "sns.heatmap(np.round((laser_vis_cleaned).corr(),1),annot=True,cmap='coolwarm',annot_kws={\"size\": 5})"
      ]
    },
    {
      "cell_type": "code",
      "source": [
        "# Calculate the correlation matrix\n",
        "corr_matrix_laser = laser_vis_cleaned.corr()\n",
        "\n",
        "# Filter for correlations above or equal to 0.8\n",
        "high_corr_laser = corr_matrix_laser[(corr_matrix_laser >= 0.7) | (corr_matrix_laser <= -0.7) ]\n",
        "\n",
        "# Remove self-correlations (which are always 1.0)\n",
        "high_corr_laser = high_corr_laser.where(np.triu(np.ones(high_corr_laser.shape), k=1).astype(bool))\n",
        "\n",
        "# Stack to get a list of variable pairs\n",
        "high_corr_pairs_laser = high_corr_laser.stack().reset_index()\n",
        "\n",
        "# Rename the columns for clarity\n",
        "high_corr_pairs_laser.columns = ['Variable 1', 'Variable 2', 'Correlation']\n",
        "\n",
        "# Display the result\n",
        "high_corr_pairs_laser"
      ],
      "metadata": {
        "id": "gxOKyLazks7X"
      },
      "execution_count": null,
      "outputs": []
    },
    {
      "cell_type": "markdown",
      "source": [
        "Now Machine learning"
      ],
      "metadata": {
        "id": "nJuGQRMkqyzO"
      }
    },
    {
      "cell_type": "code",
      "source": [
        "df_electron.head()"
      ],
      "metadata": {
        "id": "Y0JlVyLiOqT1"
      },
      "execution_count": null,
      "outputs": []
    },
    {
      "cell_type": "code",
      "source": [
        "from sklearn.model_selection import train_test_split\n",
        "\n",
        "from sklearn.preprocessing import MinMaxScaler,StandardScaler\n",
        "from tensorflow.keras.utils import to_categorical"
      ],
      "metadata": {
        "id": "u4Gtp2asO49D"
      },
      "execution_count": null,
      "outputs": []
    },
    {
      "cell_type": "code",
      "source": [
        "params=df_electron.iloc[:,:-4].values"
      ],
      "metadata": {
        "id": "L6OtjoPdRpSc"
      },
      "execution_count": null,
      "outputs": []
    },
    {
      "cell_type": "code",
      "source": [
        "params.shape"
      ],
      "metadata": {
        "id": "htCeg4QuO2b-"
      },
      "execution_count": null,
      "outputs": []
    },
    {
      "cell_type": "code",
      "source": [
        "params_CMR=df_electron.iloc[:,:-1].values"
      ],
      "metadata": {
        "id": "w5quFLHnN-TJ"
      },
      "execution_count": null,
      "outputs": []
    },
    {
      "cell_type": "code",
      "source": [
        "params_laser_CMR=df_laser_clean.iloc[:,:-1].values"
      ],
      "metadata": {
        "id": "OYriKijpb6D-"
      },
      "execution_count": null,
      "outputs": []
    },
    {
      "cell_type": "code",
      "source": [
        "params_laser=df_laser_clean.iloc[:,:-4].values"
      ],
      "metadata": {
        "id": "CLd4d_86JTtG"
      },
      "execution_count": null,
      "outputs": []
    },
    {
      "cell_type": "code",
      "source": [
        "params_laser"
      ],
      "metadata": {
        "id": "90omVhZDIlGR"
      },
      "execution_count": null,
      "outputs": []
    },
    {
      "cell_type": "code",
      "source": [
        "params_laser_CMR.shape"
      ],
      "metadata": {
        "id": "DicMedeJcE6P"
      },
      "execution_count": null,
      "outputs": []
    },
    {
      "cell_type": "code",
      "source": [
        "params_CMR.shape"
      ],
      "metadata": {
        "id": "7yE2tjiqO4q-"
      },
      "execution_count": null,
      "outputs": []
    },
    {
      "cell_type": "code",
      "source": [
        "params_laser.shape"
      ],
      "metadata": {
        "id": "fjP9dejxctnu"
      },
      "execution_count": null,
      "outputs": []
    },
    {
      "cell_type": "code",
      "source": [
        "T_ime=to_categorical(df_electron.iloc[:,-1]-1)"
      ],
      "metadata": {
        "id": "deuvcrjfR7dc"
      },
      "execution_count": null,
      "outputs": []
    },
    {
      "cell_type": "code",
      "source": [
        "T_ime_laser=to_categorical(df_laser.iloc[:,-1]-1)"
      ],
      "metadata": {
        "id": "Z_kFgYYOc8EI"
      },
      "execution_count": null,
      "outputs": []
    },
    {
      "cell_type": "code",
      "source": [
        "T_ime"
      ],
      "metadata": {
        "id": "gNMuLKY7eYKl"
      },
      "execution_count": null,
      "outputs": []
    },
    {
      "cell_type": "code",
      "source": [
        "T_ime_laser"
      ],
      "metadata": {
        "id": "RcR5W7vadGEw"
      },
      "execution_count": null,
      "outputs": []
    },
    {
      "cell_type": "code",
      "source": [
        "type(T_ime)"
      ],
      "metadata": {
        "id": "ZxRADcfHTXD0"
      },
      "execution_count": null,
      "outputs": []
    },
    {
      "cell_type": "code",
      "source": [
        "X_train,X_test,y_train, y_test=train_test_split(params_laser, T_ime_laser, test_size=0.3)"
      ],
      "metadata": {
        "id": "CC8zH4ASUDME"
      },
      "execution_count": null,
      "outputs": []
    },
    {
      "cell_type": "code",
      "source": [
        "params"
      ],
      "metadata": {
        "id": "BXP_gU1YSKKL"
      },
      "execution_count": null,
      "outputs": []
    },
    {
      "cell_type": "code",
      "source": [
        "scaler=MinMaxScaler()"
      ],
      "metadata": {
        "id": "H8dcLBkoTjB0"
      },
      "execution_count": null,
      "outputs": []
    },
    {
      "cell_type": "code",
      "source": [
        "X_train=scaler.fit_transform(X_train)\n",
        "X_test=scaler.transform(X_test)"
      ],
      "metadata": {
        "id": "qIAInebVdQNs"
      },
      "execution_count": null,
      "outputs": []
    },
    {
      "cell_type": "code",
      "source": [
        "X_train.shape"
      ],
      "metadata": {
        "id": "c_-d55i0dZtE"
      },
      "execution_count": null,
      "outputs": []
    },
    {
      "cell_type": "code",
      "source": [],
      "metadata": {
        "id": "hY1f7tz2dbyD"
      },
      "execution_count": null,
      "outputs": []
    },
    {
      "cell_type": "code",
      "execution_count": null,
      "metadata": {
        "id": "G680b5EoVrG4"
      },
      "outputs": [],
      "source": [
        "import tensorflow as tf\n",
        "from tensorflow.keras.models import Sequential\n",
        "from tensorflow.keras.layers import Dense"
      ]
    },
    {
      "cell_type": "code",
      "source": [
        "from keras.layers import LeakyReLU"
      ],
      "metadata": {
        "id": "ky40ffOneWy_"
      },
      "execution_count": null,
      "outputs": []
    },
    {
      "cell_type": "code",
      "source": [
        "from tensorflow.keras.models import Sequential\n",
        "from tensorflow.keras.layers import Dense, Dropout, BatchNormalization\n",
        "from tensorflow.keras.optimizers import Adam\n",
        "\n",
        "model = Sequential()\n",
        "\n",
        "# Input layer\n",
        "model.add(Dense(units=64, activation='relu', input_shape=(41,)))  # Assuming input features are 19\n",
        "model.add(BatchNormalization())\n",
        "model.add(Dropout(0.3))\n",
        "\n",
        "# Hidden layers\n",
        "model.add(Dense(units=128, activation='relu'))\n",
        "model.add(BatchNormalization())\n",
        "model.add(Dropout(0.3))\n",
        "\n",
        "model.add(Dense(units=64, activation='relu'))\n",
        "model.add(BatchNormalization())\n",
        "model.add(Dropout(0.3))\n",
        "\n",
        "model.add(Dense(units=32, activation='relu'))\n",
        "model.add(BatchNormalization())\n",
        "model.add(Dropout(0.3))\n",
        "\n",
        "# Output layer\n",
        "model.add(Dense(units=3, activation='softmax'))"
      ],
      "metadata": {
        "id": "1v4mQGQYONgc"
      },
      "execution_count": null,
      "outputs": []
    },
    {
      "cell_type": "code",
      "source": [
        "pip install ann_visualizer graphviz"
      ],
      "metadata": {
        "id": "VGkntX0AjPjR"
      },
      "execution_count": null,
      "outputs": []
    },
    {
      "cell_type": "code",
      "source": [
        "from tensorflow.keras.utils import plot_model\n",
        "from ann_visualizer.visualize import ann_viz\n",
        "\n",
        "ann_viz(model)"
      ],
      "metadata": {
        "id": "NT2zXhJ3huGX"
      },
      "execution_count": null,
      "outputs": []
    },
    {
      "cell_type": "code",
      "source": [
        "from sklearn.utils import class_weight\n",
        "import numpy as np\n",
        "\n",
        "# Assuming y_train is in one-hot encoded format\n",
        "# Convert one-hot labels to single-labels for computing class weights\n",
        "y_train_single_labels = np.argmax(y_train, axis=1)\n",
        "\n",
        "# Calculate class weights\n",
        "class_weights = class_weight.compute_class_weight(\n",
        "    class_weight='balanced',\n",
        "    classes=np.unique(y_train_single_labels),  # Unique classes (e.g., [0, 1, 2])\n",
        "    y=y_train_single_labels  # Pass single-label version of y_train\n",
        ")\n",
        "\n",
        "# Convert class weights into a dictionary to pass to model.fit\n",
        "class_weight_dict = dict(enumerate(class_weights))"
      ],
      "metadata": {
        "id": "0AO7wIzXp1gn"
      },
      "execution_count": null,
      "outputs": []
    },
    {
      "cell_type": "code",
      "source": [
        "\n",
        "model = Sequential()\n",
        "\n",
        "# Input layer\n",
        "model.add(Dense(units=64, input_shape=(41,)))  # Assuming input features are 19\n",
        "model.add(LeakyReLU(alpha=0.1))  # Leaky ReLU instead of ReLU\n",
        "model.add(BatchNormalization())\n",
        "model.add(Dropout(0.5))\n",
        "\n",
        "# Hidden layers\n",
        "model.add(Dense(units=228))\n",
        "model.add(LeakyReLU(alpha=0.1))  # Leaky ReLU\n",
        "model.add(BatchNormalization())\n",
        "model.add(Dropout(0.5))\n",
        "\n",
        "model.add(Dense(units=64))\n",
        "model.add(LeakyReLU(alpha=0.1))  # Leaky ReLU\n",
        "model.add(BatchNormalization())\n",
        "model.add(Dropout(0.5))\n",
        "\n",
        "model.add(Dense(units=32))\n",
        "model.add(LeakyReLU(alpha=0.1))  # Leaky ReLU\n",
        "model.add(BatchNormalization())\n",
        "model.add(Dropout(0.5))\n",
        "\n",
        "# Output layer\n",
        "model.add(Dense(units=3, activation='softmax'))  # Output layer for 3 categories"
      ],
      "metadata": {
        "id": "gZIL9G7qe629"
      },
      "execution_count": null,
      "outputs": []
    },
    {
      "cell_type": "code",
      "source": [
        "model.compile(optimizer=tf.keras.optimizers.Adam(learning_rate=0.0001),loss='categorical_crossentropy',metrics=['accuracy'])"
      ],
      "metadata": {
        "id": "9jR8H8tFd0vF"
      },
      "execution_count": null,
      "outputs": []
    },
    {
      "cell_type": "code",
      "source": [],
      "metadata": {
        "id": "fi2PDAXJrqeY"
      },
      "execution_count": null,
      "outputs": []
    },
    {
      "cell_type": "code",
      "source": [
        "history = model.fit(X_train, y_train, epochs=500, batch_size=32, validation_split=0.2)"
      ],
      "metadata": {
        "id": "vQNTN5Lmd0qL"
      },
      "execution_count": null,
      "outputs": []
    },
    {
      "cell_type": "code",
      "source": [],
      "metadata": {
        "id": "94JB2HsOd0dM"
      },
      "execution_count": null,
      "outputs": []
    },
    {
      "cell_type": "code",
      "source": [
        "pd.DataFrame(history.history).plot()"
      ],
      "metadata": {
        "id": "bfDvHhV4hV3C"
      },
      "execution_count": null,
      "outputs": []
    },
    {
      "cell_type": "code",
      "source": [
        "y_preds=model.predict(X_test)"
      ],
      "metadata": {
        "id": "wyCczZN7ihSs"
      },
      "execution_count": null,
      "outputs": []
    },
    {
      "cell_type": "code",
      "source": [
        "np.argmax(y_preds,axis=1)"
      ],
      "metadata": {
        "id": "8K-ZqsvPil-S"
      },
      "execution_count": null,
      "outputs": []
    },
    {
      "cell_type": "code",
      "source": [
        "np.argmax(y_test,axis=1)"
      ],
      "metadata": {
        "id": "jEN9ko6di6Hl"
      },
      "execution_count": null,
      "outputs": []
    },
    {
      "cell_type": "code",
      "source": [
        "Model_performance=pd.DataFrame({'Predicted':np.argmax(y_preds,axis=1),'Real':np.argmax(y_test,axis=1)})"
      ],
      "metadata": {
        "id": "s0utZ1b4jLs6"
      },
      "execution_count": null,
      "outputs": []
    },
    {
      "cell_type": "code",
      "source": [
        "Model_performance"
      ],
      "metadata": {
        "id": "ykgs_r4WjkOs"
      },
      "execution_count": null,
      "outputs": []
    },
    {
      "cell_type": "code",
      "source": [
        "from sklearn.metrics import f1_score, confusion_matrix"
      ],
      "metadata": {
        "id": "bMhnee2TjnYb"
      },
      "execution_count": null,
      "outputs": []
    },
    {
      "cell_type": "code",
      "source": [
        "confusion_matrix(Model_performance['Predicted'],Model_performance['Real'])"
      ],
      "metadata": {
        "id": "9rKZSt-7kGeD"
      },
      "execution_count": null,
      "outputs": []
    },
    {
      "cell_type": "code",
      "source": [
        "cm = confusion_matrix(Model_performance['Real'], Model_performance['Predicted'], labels=[0, 1, 2])\n",
        "\n",
        "# Create a heatmap visualization\n",
        "plt.figure(figsize=(8, 6))\n",
        "sns.heatmap(cm, annot=True, fmt='d', cmap='Oranges', cbar=False, xticklabels=[1, 2, 3], yticklabels=[1, 2, 3])\n",
        "\n",
        "# Add labels and title\n",
        "plt.xlabel('Predicted Labels')\n",
        "plt.ylabel('True Labels')\n",
        "plt.title('Confusion Matrix')\n",
        "\n",
        "# Display the plot\n",
        "plt.show()"
      ],
      "metadata": {
        "id": "qdtp6iDp_hnV"
      },
      "execution_count": null,
      "outputs": []
    },
    {
      "cell_type": "code",
      "source": [
        "f1_score(Model_performance['Predicted'],Model_performance['Real'],average='weighted')"
      ],
      "metadata": {
        "id": "Zyrlh9rNkV1T"
      },
      "execution_count": null,
      "outputs": []
    },
    {
      "cell_type": "code",
      "execution_count": null,
      "metadata": {
        "id": "GRtRmSaomqqo"
      },
      "outputs": [],
      "source": [
        "model_2 = Sequential()\n",
        "\n",
        "# Input layer\n",
        "model_2.add(Dense(units=64, activation='relu', input_shape=(16,)))  # Assuming input features are 16\n",
        "model_2.add(BatchNormalization())\n",
        "model_2.add(Dropout(0.5))\n",
        "\n",
        "# Hidden layers\n",
        "model_2.add(Dense(units=20, activation='relu'))\n",
        "model_2.add(BatchNormalization())\n",
        "model_2.add(Dropout(0.5))\n",
        "\n",
        "model_2.add(Dense(units=5, activation='relu'))\n",
        "model_2.add(BatchNormalization())\n",
        "model_2.add(Dropout(0.5))\n",
        "\n",
        "\n",
        "# Output layer\n",
        "model_2.add(Dense(units=3, activation='softmax'))"
      ]
    },
    {
      "cell_type": "code",
      "execution_count": null,
      "metadata": {
        "id": "dj0E0ljSm1Lm"
      },
      "outputs": [],
      "source": [
        "model_2.compile(optimizer=tf.keras.optimizers.Adam(lr=0.0000001),loss='categorical_crossentropy',metrics=['accuracy'])"
      ]
    },
    {
      "cell_type": "code",
      "source": [
        "history_2 = model_2.fit(X_train, y_train, epochs=500, batch_size=32, validation_split=0.2)"
      ],
      "metadata": {
        "id": "wEuQ3elTlY3t"
      },
      "execution_count": null,
      "outputs": []
    },
    {
      "cell_type": "code",
      "source": [
        "y_preds=model_2.predict(X_test)\n",
        "#np.argmax(y_preds,axis=1)\n",
        "\n",
        "#np.argmax(y_test,axis=1)\n",
        "\n",
        "Model_performance_2=pd.DataFrame({'Predicted':np.argmax(y_preds,axis=1),'Real':np.argmax(y_test,axis=1)})"
      ],
      "metadata": {
        "id": "yhKiYR82l_ks"
      },
      "execution_count": null,
      "outputs": []
    },
    {
      "cell_type": "code",
      "source": [
        "confusion_matrix(Model_performance_2['Predicted'],Model_performance_2['Real'])"
      ],
      "metadata": {
        "id": "rzgpziMRmZGL"
      },
      "execution_count": null,
      "outputs": []
    },
    {
      "cell_type": "code",
      "source": [
        "np.argmax(T_ime)"
      ],
      "metadata": {
        "id": "u49W7jlCk9qe"
      },
      "execution_count": null,
      "outputs": []
    },
    {
      "cell_type": "code",
      "source": [
        "data=T_ime\n",
        "\n",
        "\n",
        "labels=np.argmax(data,axis=1)"
      ],
      "metadata": {
        "id": "GyGV9BVzkViX"
      },
      "execution_count": null,
      "outputs": []
    },
    {
      "cell_type": "code",
      "source": [
        "data=T_ime_laser\n",
        "\n",
        "\n",
        "labels_laser=np.argmax(data,axis=1)"
      ],
      "metadata": {
        "id": "07fKl9iWnb-_"
      },
      "execution_count": null,
      "outputs": []
    },
    {
      "cell_type": "code",
      "source": [
        "labels"
      ],
      "metadata": {
        "id": "D7zkd7ihks-r"
      },
      "execution_count": null,
      "outputs": []
    },
    {
      "cell_type": "code",
      "source": [
        "plt.figure(dpi=300)\n",
        "unique, counts = np.unique(labels, return_counts=True)\n",
        "plt.pie(counts, labels=['T_1', 'T_2', 'T_3'], autopct='%1.1f%%', startangle=90, colors=['#ff9999','#66b3ff','#99ff99'])\n",
        "\n",
        "\n",
        "# Ensure the pie is a circle\n",
        "plt.axis('equal')\n",
        "plt.title('Electron_Beam_Data_Distribution')\n",
        "\n",
        "# Show the plot\n",
        "plt.show()"
      ],
      "metadata": {
        "id": "9yf0WM7vl_Bw"
      },
      "execution_count": null,
      "outputs": []
    },
    {
      "cell_type": "code",
      "source": [
        "plt.figure(dpi=300)\n",
        "unique, counts = np.unique(labels_laser, return_counts=True)\n",
        "plt.pie(counts, labels=['T_1', 'T_2', 'T_3'], autopct='%1.1f%%', startangle=90, colors=['#ff9999','#66b3ff','#99ff99'])\n",
        "\n",
        "\n",
        "# Ensure the pie is a circle\n",
        "plt.axis('equal')\n",
        "plt.title('Laser_Data_Distribution')\n",
        "\n",
        "# Show the plot\n",
        "plt.show()"
      ],
      "metadata": {
        "id": "SzDCIqhTlxHl"
      },
      "execution_count": null,
      "outputs": []
    },
    {
      "cell_type": "code",
      "source": [],
      "metadata": {
        "id": "D0kQMPSFnmWh"
      },
      "execution_count": null,
      "outputs": []
    }
  ],
  "metadata": {
    "colab": {
      "provenance": []
    },
    "kernelspec": {
      "display_name": "Python 3",
      "name": "python3"
    },
    "language_info": {
      "name": "python"
    }
  },
  "nbformat": 4,
  "nbformat_minor": 0
}